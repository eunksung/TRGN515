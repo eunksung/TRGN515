{
 "cells": [
  {
   "cell_type": "markdown",
   "id": "d7ca67d9-c65f-4533-b606-84764947f77e",
   "metadata": {},
   "source": [
    "## Using the GFF3 file that is well annotated, do:\n"
   ]
  },
  {
   "cell_type": "markdown",
   "id": "22e0505a-9bc1-469a-ba15-caeca81d1aca",
   "metadata": {},
   "source": [
    "#### W5-H17: Visualize the data as much as you can. How many genes/CDS/exon are listed for ENSEMBL and other datasets?\n"
   ]
  },
  {
   "cell_type": "code",
   "execution_count": 1,
   "id": "91373b3f-35b0-4d60-a8f1-848a79a59413",
   "metadata": {},
   "outputs": [],
   "source": [
    "import pandas as pd\n",
    "col_names = ['seqid', 'source', 'type', 'start', 'end', 'score', 'strand', 'phase', 'attributes']\n",
    "df=pd.read_csv('./datasets/Homo_sapiens.GRCh38.85.gff3.gz', compression='gzip',\n",
    "                         sep='\\t', comment='#', low_memory=False,\n",
    "                         header=None, names=col_names)"
   ]
  },
  {
   "cell_type": "code",
   "execution_count": 28,
   "id": "0280e443-0f8b-40ef-a82e-25842b085e02",
   "metadata": {},
   "outputs": [
    {
     "name": "stdout",
     "output_type": "stream",
     "text": [
      "ensembl gene/CDS/exon counts\n",
      "gene: 333\n",
      "CDS: 88200\n",
      "exon: 104269\n"
     ]
    }
   ],
   "source": [
    "ens_df=df[df.source.isin(['ensembl'])]\n",
    "ens_gene = ens_df[ens_df.type == 'gene']\n",
    "ens_cds = ens_df[ens_df.type == 'CDS']\n",
    "ens_exon = ens_df[ens_df.type == 'exon']\n",
    "print('ensembl gene/CDS/exon counts\\ngene: {}\\nCDS: {}\\nexon: {}'.format(len(ens_gene),len(ens_cds),len(ens_exon)))"
   ]
  },
  {
   "cell_type": "code",
   "execution_count": 29,
   "id": "2fab4cfc-8055-4430-92b8-ec38fc4a70de",
   "metadata": {},
   "outputs": [
    {
     "name": "stdout",
     "output_type": "stream",
     "text": [
      ". gene/CDS/exon counts\n",
      "gene: 0\n",
      "CDS: 0\n",
      "exon: 0\n"
     ]
    }
   ],
   "source": [
    "dot_df=df[df.source.isin(['.'])]\n",
    "dot_gene = dot_df[dot_df.type == 'gene']\n",
    "dot_cds = dot_df[dot_df.type == 'CDS']\n",
    "dot_exon = dot_df[dot_df.type == 'exon']\n",
    "print('. gene/CDS/exon counts\\ngene: {}\\nCDS: {}\\nexon: {}'.format(len(dot_gene),len(dot_cds),len(dot_exon)))"
   ]
  },
  {
   "cell_type": "code",
   "execution_count": 39,
   "id": "d2733f4a-e934-484a-9693-33f57b51ee2f",
   "metadata": {},
   "outputs": [
    {
     "data": {
      "text/plain": [
       "biological_region    182510\n",
       "Name: type, dtype: int64"
      ]
     },
     "execution_count": 39,
     "metadata": {},
     "output_type": "execute_result"
    }
   ],
   "source": [
    "dot_df.type.value_counts() #here I want to know what values in type with its count"
   ]
  },
  {
   "cell_type": "code",
   "execution_count": 40,
   "id": "7b5b9bad-2537-43af-9653-1a61e5066c36",
   "metadata": {},
   "outputs": [
    {
     "name": "stdout",
     "output_type": "stream",
     "text": [
      "ensembl_havana gene/CDS/exon counts\n",
      "gene: 19064\n",
      "CDS: 248313\n",
      "exon: 268822\n"
     ]
    }
   ],
   "source": [
    "enshv_df=df[df.source.isin(['ensembl_havana'])]\n",
    "enshv_gene = enshv_df[enshv_df.type == 'gene']\n",
    "enshv_cds = enshv_df[enshv_df.type == 'CDS']\n",
    "enshv_exon = enshv_df[enshv_df.type == 'exon']\n",
    "print('ensembl_havana gene/CDS/exon counts\\ngene: {}\\nCDS: {}\\nexon: {}'.format(len(enshv_gene),len(enshv_cds),len(enshv_exon)))"
   ]
  },
  {
   "cell_type": "code",
   "execution_count": 41,
   "id": "39e290be-efbb-4b3d-b43b-c5a85ce1262b",
   "metadata": {},
   "outputs": [
    {
     "name": "stdout",
     "output_type": "stream",
     "text": [
      "havana gene/CDS/exon counts\n",
      "gene: 23073\n",
      "CDS: 368091\n",
      "exon: 807505\n"
     ]
    }
   ],
   "source": [
    "havana_df=df[df.source.isin(['havana'])]\n",
    "havana_gene = havana_df[havana_df.type == 'gene']\n",
    "havana_cds = havana_df[havana_df.type == 'CDS']\n",
    "havana_exon = havana_df[havana_df.type == 'exon']\n",
    "print('havana gene/CDS/exon counts\\ngene: {}\\nCDS: {}\\nexon: {}'.format(len(havana_gene),len(havana_cds),len(havana_exon)))"
   ]
  },
  {
   "cell_type": "markdown",
   "id": "2f7635e1-d50a-4e43-a185-e8b9481bef2f",
   "metadata": {},
   "source": [
    "#### W5-H18: Plot a histogram of length information for a) entire genome, 2) for each source, i.e., ENSEMBL, Havana, etc. separately (can use subplot)"
   ]
  },
  {
   "cell_type": "code",
   "execution_count": 54,
   "id": "9dc82819-1557-4f3f-80ec-0939b77b034c",
   "metadata": {},
   "outputs": [
    {
     "data": {
      "text/plain": [
       "<AxesSubplot:title={'center':'Entired Genome Length from ensembl'}, ylabel='Frequency'>"
      ]
     },
     "execution_count": 54,
     "metadata": {},
     "output_type": "execute_result"
    },
    {
     "data": {
      "image/png": "[encoded data removed]",
      "text/plain": [
       "<Figure size 432x288 with 1 Axes>"
      ]
     },
     "metadata": {
      "needs_background": "light"
     },
     "output_type": "display_data"
    }
   ],
   "source": [
    "ens_cp = ens_df.copy()\n",
    "ens_cp['length'] = ens_cp.end - ens_cp.start + 1\n",
    "ens_cp.length.plot(kind='hist', bins=50, logy=True, title='Entired Genome Length from ensembl')"
   ]
  },
  {
   "cell_type": "code",
   "execution_count": 53,
   "id": "e3ed9741-2fae-4ba8-8887-3a3d3e92b288",
   "metadata": {},
   "outputs": [
    {
     "data": {
      "text/plain": [
       "<AxesSubplot:title={'center':'Entired Genome Length from havana'}, ylabel='Frequency'>"
      ]
     },
     "execution_count": 53,
     "metadata": {},
     "output_type": "execute_result"
    },
    {
     "data": {
      "image/png": "[encoded data removed]",
      "text/plain": [
       "<Figure size 432x288 with 1 Axes>"
      ]
     },
     "metadata": {
      "needs_background": "light"
     },
     "output_type": "display_data"
    }
   ],
   "source": [
    "havana_cp = havana_df.copy()\n",
    "havana_cp['length'] = havana_cp.end - havana_cp.start + 1\n",
    "havana_cp.length.plot(kind='hist', bins=100, logy=True, title='Entired Genome Length from havana')"
   ]
  },
  {
   "cell_type": "code",
   "execution_count": 52,
   "id": "79e4f62e-826a-4fbf-915d-67b9829554af",
   "metadata": {},
   "outputs": [
    {
     "data": {
      "text/plain": [
       "<AxesSubplot:title={'center':'Entired Genome Length from ensembl_havana'}, ylabel='Frequency'>"
      ]
     },
     "execution_count": 52,
     "metadata": {},
     "output_type": "execute_result"
    },
    {
     "data": {
      "image/png": "[encoded data removed]",
      "text/plain": [
       "<Figure size 432x288 with 1 Axes>"
      ]
     },
     "metadata": {
      "needs_background": "light"
     },
     "output_type": "display_data"
    }
   ],
   "source": [
    "enshv_cp = enshv_df.copy()\n",
    "enshv_cp['length'] = enshv_cp.end - enshv_cp.start + 1\n",
    "enshv_cp.length.plot(kind='hist', bins=100, logy=True, title='Entired Genome Length from ensembl_havana')"
   ]
  },
  {
   "cell_type": "code",
   "execution_count": 51,
   "id": "6092ea8b-b01a-436c-bd84-a6cd14f91a02",
   "metadata": {},
   "outputs": [
    {
     "data": {
      "text/plain": [
       "<AxesSubplot:title={'center':'Entired Genome Length from .'}, ylabel='Frequency'>"
      ]
     },
     "execution_count": 51,
     "metadata": {},
     "output_type": "execute_result"
    },
    {
     "data": {
      "image/png": "[encoded data removed]",
      "text/plain": [
       "<Figure size 432x288 with 1 Axes>"
      ]
     },
     "metadata": {
      "needs_background": "light"
     },
     "output_type": "display_data"
    }
   ],
   "source": [
    "dot_cp = dot_df.copy()\n",
    "dot_cp['length'] = dot_cp.end - dot_cp.start + 1\n",
    "dot_cp.length.plot(kind='hist', bins=50, logy=True, title='Entired Genome Length from .')"
   ]
  },
  {
   "cell_type": "markdown",
   "id": "fd22c347-aadf-4764-87b5-13ed7c07cfb2",
   "metadata": {},
   "source": [
    "#### W5-H19: Parse the description column: Anything you can visualize? Visualize at least one thing."
   ]
  },
  {
   "cell_type": "code",
   "execution_count": 59,
   "id": "67b41dd4-bf30-45d0-bcc7-f1a88191c53c",
   "metadata": {
    "tags": []
   },
   "outputs": [],
   "source": [
    "import re\n",
    "\n",
    "ds = re.compile(r'description=(?P<description>.+?);')\n",
    "\n",
    "def extract_gene_desc(attributes_str):\n",
    "    res = ds.search(attributes_str)\n",
    "    if res is None:\n",
    "        return ''\n",
    "    else:\n",
    "        return res.group('description')\n",
    "\n",
    "ens_cp['description'] = ens_cp.attributes.apply(extract_gene_desc)"
   ]
  },
  {
   "cell_type": "code",
   "execution_count": 71,
   "id": "001f0dfe-2d77-4d87-8ece-64565f95b606",
   "metadata": {},
   "outputs": [
    {
     "data": {
      "text/html": [
       "<div>\n",
       "<style scoped>\n",
       "    .dataframe tbody tr th:only-of-type {\n",
       "        vertical-align: middle;\n",
       "    }\n",
       "\n",
       "    .dataframe tbody tr th {\n",
       "        vertical-align: top;\n",
       "    }\n",
       "\n",
       "    .dataframe thead th {\n",
       "        text-align: right;\n",
       "    }\n",
       "</style>\n",
       "<table border=\"1\" class=\"dataframe\">\n",
       "  <thead>\n",
       "    <tr style=\"text-align: right;\">\n",
       "      <th></th>\n",
       "      <th>seqid</th>\n",
       "      <th>source</th>\n",
       "      <th>type</th>\n",
       "      <th>start</th>\n",
       "      <th>end</th>\n",
       "      <th>score</th>\n",
       "      <th>strand</th>\n",
       "      <th>phase</th>\n",
       "      <th>attributes</th>\n",
       "      <th>length</th>\n",
       "      <th>description</th>\n",
       "    </tr>\n",
       "  </thead>\n",
       "  <tbody>\n",
       "    <tr>\n",
       "      <th>1862356</th>\n",
       "      <td>3</td>\n",
       "      <td>ensembl</td>\n",
       "      <td>exon</td>\n",
       "      <td>197069219</td>\n",
       "      <td>197069260</td>\n",
       "      <td>.</td>\n",
       "      <td>-</td>\n",
       "      <td>.</td>\n",
       "      <td>Parent=transcript:ENST00000357674;Name=ENSE000...</td>\n",
       "      <td>42</td>\n",
       "      <td></td>\n",
       "    </tr>\n",
       "    <tr>\n",
       "      <th>251568</th>\n",
       "      <td>10</td>\n",
       "      <td>ensembl</td>\n",
       "      <td>CDS</td>\n",
       "      <td>26777065</td>\n",
       "      <td>26777241</td>\n",
       "      <td>.</td>\n",
       "      <td>-</td>\n",
       "      <td>0</td>\n",
       "      <td>ID=CDS:ENSP00000439646;Parent=transcript:ENST0...</td>\n",
       "      <td>177</td>\n",
       "      <td></td>\n",
       "    </tr>\n",
       "    <tr>\n",
       "      <th>2315637</th>\n",
       "      <td>7</td>\n",
       "      <td>ensembl</td>\n",
       "      <td>exon</td>\n",
       "      <td>151381878</td>\n",
       "      <td>151381981</td>\n",
       "      <td>.</td>\n",
       "      <td>-</td>\n",
       "      <td>.</td>\n",
       "      <td>Parent=transcript:ENST00000621812;Name=ENSE000...</td>\n",
       "      <td>104</td>\n",
       "      <td></td>\n",
       "    </tr>\n",
       "    <tr>\n",
       "      <th>1114088</th>\n",
       "      <td>17</td>\n",
       "      <td>ensembl</td>\n",
       "      <td>five_prime_UTR</td>\n",
       "      <td>63872859</td>\n",
       "      <td>63872954</td>\n",
       "      <td>.</td>\n",
       "      <td>-</td>\n",
       "      <td>.</td>\n",
       "      <td>Parent=transcript:ENST00000613718</td>\n",
       "      <td>96</td>\n",
       "      <td></td>\n",
       "    </tr>\n",
       "    <tr>\n",
       "      <th>2499479</th>\n",
       "      <td>9</td>\n",
       "      <td>ensembl</td>\n",
       "      <td>CDS</td>\n",
       "      <td>134817026</td>\n",
       "      <td>134817079</td>\n",
       "      <td>.</td>\n",
       "      <td>+</td>\n",
       "      <td>0</td>\n",
       "      <td>ID=CDS:ENSP00000481360;Parent=transcript:ENST0...</td>\n",
       "      <td>54</td>\n",
       "      <td></td>\n",
       "    </tr>\n",
       "    <tr>\n",
       "      <th>2304972</th>\n",
       "      <td>7</td>\n",
       "      <td>ensembl</td>\n",
       "      <td>three_prime_UTR</td>\n",
       "      <td>141651525</td>\n",
       "      <td>141651609</td>\n",
       "      <td>.</td>\n",
       "      <td>+</td>\n",
       "      <td>.</td>\n",
       "      <td>Parent=transcript:ENST00000629555</td>\n",
       "      <td>85</td>\n",
       "      <td></td>\n",
       "    </tr>\n",
       "    <tr>\n",
       "      <th>193345</th>\n",
       "      <td>1</td>\n",
       "      <td>ensembl</td>\n",
       "      <td>snRNA_gene</td>\n",
       "      <td>200008505</td>\n",
       "      <td>200008607</td>\n",
       "      <td>.</td>\n",
       "      <td>-</td>\n",
       "      <td>.</td>\n",
       "      <td>ID=gene:ENSG00000202491;Name=RNU6-716P;biotype...</td>\n",
       "      <td>103</td>\n",
       "      <td>RNA%2C U6 small nuclear 716%2C pseudogene [Sou...</td>\n",
       "    </tr>\n",
       "    <tr>\n",
       "      <th>131904</th>\n",
       "      <td>1</td>\n",
       "      <td>ensembl</td>\n",
       "      <td>five_prime_UTR</td>\n",
       "      <td>144456537</td>\n",
       "      <td>144456805</td>\n",
       "      <td>.</td>\n",
       "      <td>-</td>\n",
       "      <td>.</td>\n",
       "      <td>Parent=transcript:ENST00000581897</td>\n",
       "      <td>269</td>\n",
       "      <td></td>\n",
       "    </tr>\n",
       "    <tr>\n",
       "      <th>2550618</th>\n",
       "      <td>X</td>\n",
       "      <td>ensembl</td>\n",
       "      <td>CDS</td>\n",
       "      <td>70610503</td>\n",
       "      <td>70610543</td>\n",
       "      <td>.</td>\n",
       "      <td>-</td>\n",
       "      <td>1</td>\n",
       "      <td>ID=CDS:ENSP00000340995;Parent=transcript:ENST0...</td>\n",
       "      <td>41</td>\n",
       "      <td></td>\n",
       "    </tr>\n",
       "    <tr>\n",
       "      <th>82305</th>\n",
       "      <td>1</td>\n",
       "      <td>ensembl</td>\n",
       "      <td>CDS</td>\n",
       "      <td>51810281</td>\n",
       "      <td>51810404</td>\n",
       "      <td>.</td>\n",
       "      <td>-</td>\n",
       "      <td>0</td>\n",
       "      <td>ID=CDS:ENSP00000444416;Parent=transcript:ENST0...</td>\n",
       "      <td>124</td>\n",
       "      <td></td>\n",
       "    </tr>\n",
       "  </tbody>\n",
       "</table>\n",
       "</div>"
      ],
      "text/plain": [
       "        seqid   source             type      start        end score strand  \\\n",
       "1862356     3  ensembl             exon  197069219  197069260     .      -   \n",
       "251568     10  ensembl              CDS   26777065   26777241     .      -   \n",
       "2315637     7  ensembl             exon  151381878  151381981     .      -   \n",
       "1114088    17  ensembl   five_prime_UTR   63872859   63872954     .      -   \n",
       "2499479     9  ensembl              CDS  134817026  134817079     .      +   \n",
       "2304972     7  ensembl  three_prime_UTR  141651525  141651609     .      +   \n",
       "193345      1  ensembl       snRNA_gene  200008505  200008607     .      -   \n",
       "131904      1  ensembl   five_prime_UTR  144456537  144456805     .      -   \n",
       "2550618     X  ensembl              CDS   70610503   70610543     .      -   \n",
       "82305       1  ensembl              CDS   51810281   51810404     .      -   \n",
       "\n",
       "        phase                                         attributes  length  \\\n",
       "1862356     .  Parent=transcript:ENST00000357674;Name=ENSE000...      42   \n",
       "251568      0  ID=CDS:ENSP00000439646;Parent=transcript:ENST0...     177   \n",
       "2315637     .  Parent=transcript:ENST00000621812;Name=ENSE000...     104   \n",
       "1114088     .                  Parent=transcript:ENST00000613718      96   \n",
       "2499479     0  ID=CDS:ENSP00000481360;Parent=transcript:ENST0...      54   \n",
       "2304972     .                  Parent=transcript:ENST00000629555      85   \n",
       "193345      .  ID=gene:ENSG00000202491;Name=RNU6-716P;biotype...     103   \n",
       "131904      .                  Parent=transcript:ENST00000581897     269   \n",
       "2550618     1  ID=CDS:ENSP00000340995;Parent=transcript:ENST0...      41   \n",
       "82305       0  ID=CDS:ENSP00000444416;Parent=transcript:ENST0...     124   \n",
       "\n",
       "                                               description  \n",
       "1862356                                                     \n",
       "251568                                                      \n",
       "2315637                                                     \n",
       "1114088                                                     \n",
       "2499479                                                     \n",
       "2304972                                                     \n",
       "193345   RNA%2C U6 small nuclear 716%2C pseudogene [Sou...  \n",
       "131904                                                      \n",
       "2550618                                                     \n",
       "82305                                                       "
      ]
     },
     "execution_count": 71,
     "metadata": {},
     "output_type": "execute_result"
    }
   ],
   "source": [
    "ens_cp.sample(10)"
   ]
  },
  {
   "cell_type": "code",
   "execution_count": 70,
   "id": "d19d301d-77fa-4097-a325-3c618ac4b1fc",
   "metadata": {},
   "outputs": [
    {
     "data": {
      "text/plain": [
       "array(['',\n",
       "       'Serine/threonine-protein phosphatase 6 regulatory ankyrin repeat subunit B  [Source:UniProtKB/Swiss-Prot%3BAcc:Q8N8A2]',\n",
       "       'Small Cajal body specific RNA 15 [Source:RFAM%3BAcc:RF00426]',\n",
       "       'Small Cajal body specific RNA 6 [Source:RFAM%3BAcc:RF00478]',\n",
       "       'small Cajal body-specific RNA 17 [Source:RFAM%3BAcc:RF00492]',\n",
       "       'ATP/GTP binding protein-like 1 [Source:HGNC Symbol%3BAcc:HGNC:26504]',\n",
       "       '', '',\n",
       "       'small Cajal body-specific RNA 17 [Source:RFAM%3BAcc:RF00492]', ''],\n",
       "      dtype=object)"
      ]
     },
     "execution_count": 70,
     "metadata": {},
     "output_type": "execute_result"
    }
   ],
   "source": [
    "# From random sampling, I found that sequences belong to gene in the type column have the most of the descriptions\n",
    "# So I decided to subclasses the dataframe by gene in the type column\n",
    "new_cp = ens_cp[ens_cp.type == 'gene']\n",
    "new_cp.sample(10).description.values"
   ]
  },
  {
   "cell_type": "code",
   "execution_count": 99,
   "id": "221a8ce6-0959-47c2-87f4-4bc48cf9b960",
   "metadata": {},
   "outputs": [
    {
     "name": "stdout",
     "output_type": "stream",
     "text": [
      "Small Cajal body specific RNA 16 [Source:RFAM%3BAcc:RF00424]\n",
      "[Source:RFAM%3BAcc:RF00424]\n"
     ]
    }
   ],
   "source": [
    "ob = new_cp.description.values\n",
    "print(ob[3])\n",
    "print(ob[3].split()[6])\n"
   ]
  },
  {
   "cell_type": "markdown",
   "id": "3280be74-039a-47f6-8872-fcffe1ad9428",
   "metadata": {},
   "source": [
    "#### W5-H20: Based on our dataset, how many transcripts does a gene typically have? What percentage of genes have more than 1 transcript? Hint: You will need to sum up the exon lengths to get the transcripts. You can use external libraries. "
   ]
  },
  {
   "cell_type": "code",
   "execution_count": 11,
   "id": "1ff9d801-6a12-49eb-a411-ae53adad9a4b",
   "metadata": {
    "tags": []
   },
   "outputs": [
    {
     "name": "stderr",
     "output_type": "stream",
     "text": [
      "/var/folders/f3/_x3kzk0s34b_t_960n_ltxvw0000gn/T/ipykernel_842/2531260482.py:4: SettingWithCopyWarning: \n",
      "A value is trying to be set on a copy of a slice from a DataFrame.\n",
      "Try using .loc[row_indexer,col_indexer] = value instead\n",
      "\n",
      "See the caveats in the documentation: https://pandas.pydata.org/pandas-docs/stable/user_guide/indexing.html#returning-a-view-versus-a-copy\n",
      "  gf['length'] = gf.end - gf.start + 1\n"
     ]
    },
    {
     "name": "stdout",
     "output_type": "stream",
     "text": [
      "Avereage numbers of exon in a gene is 1.1753119763979434\n"
     ]
    },
    {
     "name": "stderr",
     "output_type": "stream",
     "text": [
      "/var/folders/f3/_x3kzk0s34b_t_960n_ltxvw0000gn/T/ipykernel_842/2531260482.py:9: SettingWithCopyWarning: \n",
      "A value is trying to be set on a copy of a slice from a DataFrame.\n",
      "Try using .loc[row_indexer,col_indexer] = value instead\n",
      "\n",
      "See the caveats in the documentation: https://pandas.pydata.org/pandas-docs/stable/user_guide/indexing.html#returning-a-view-versus-a-copy\n",
      "  ef['length'] = ef.end - ef.start + 1\n"
     ]
    }
   ],
   "source": [
    "#To answer this question, I will use three major sources: havana, havana_ensembl, and ensembl.\n",
    "gdf = df[df.source.isin(['havana', 'havana_ensembl', 'ensembl'])]\n",
    "gf = gdf[gdf.type == 'gene']\n",
    "gf['length'] = gf.end - gf.start + 1\n",
    "       \n",
    "         \n",
    "edf = df[df.source.isin(['havana', 'havana_ensembl', 'ensembl'])]\n",
    "ef = edf[edf.type == 'exon']\n",
    "ef['length'] = ef.end - ef.start + 1\n",
    "\n",
    "average_exon_in_gene = gf.length.sum() / ef.length.sum()\n",
    "average_exon_in_gene\n",
    "print('Avereage numbers of exon in a gene is {}'.format(average_exon_in_gene))"
   ]
  },
  {
   "cell_type": "code",
   "execution_count": 20,
   "id": "5494d5b8-9eac-4231-9dbe-4ffec038d837",
   "metadata": {},
   "outputs": [
    {
     "data": {
      "text/plain": [
       "count    911774.000000\n",
       "mean        236.386482\n",
       "std         543.597444\n",
       "min           1.000000\n",
       "25%          86.000000\n",
       "50%         128.000000\n",
       "75%         199.000000\n",
       "max      205012.000000\n",
       "Name: length, dtype: float64"
      ]
     },
     "execution_count": 20,
     "metadata": {},
     "output_type": "execute_result"
    }
   ],
   "source": [
    "ef.length.describe()"
   ]
  },
  {
   "cell_type": "code",
   "execution_count": 25,
   "id": "fb7f71c7-7347-4ddf-a7b1-ff7e5c249a2a",
   "metadata": {},
   "outputs": [
    {
     "data": {
      "text/html": [
       "<div>\n",
       "<style scoped>\n",
       "    .dataframe tbody tr th:only-of-type {\n",
       "        vertical-align: middle;\n",
       "    }\n",
       "\n",
       "    .dataframe tbody tr th {\n",
       "        vertical-align: top;\n",
       "    }\n",
       "\n",
       "    .dataframe thead th {\n",
       "        text-align: right;\n",
       "    }\n",
       "</style>\n",
       "<table border=\"1\" class=\"dataframe\">\n",
       "  <thead>\n",
       "    <tr style=\"text-align: right;\">\n",
       "      <th></th>\n",
       "      <th>seqid</th>\n",
       "      <th>source</th>\n",
       "      <th>type</th>\n",
       "      <th>start</th>\n",
       "      <th>end</th>\n",
       "      <th>score</th>\n",
       "      <th>strand</th>\n",
       "      <th>phase</th>\n",
       "      <th>attributes</th>\n",
       "      <th>length</th>\n",
       "    </tr>\n",
       "  </thead>\n",
       "  <tbody>\n",
       "    <tr>\n",
       "      <th>1466328</th>\n",
       "      <td>2</td>\n",
       "      <td>havana</td>\n",
       "      <td>gene</td>\n",
       "      <td>140231423</td>\n",
       "      <td>142131701</td>\n",
       "      <td>.</td>\n",
       "      <td>-</td>\n",
       "      <td>.</td>\n",
       "      <td>ID=gene:ENSG00000168702;Name=LRP1B;biotype=pro...</td>\n",
       "      <td>1900279</td>\n",
       "    </tr>\n",
       "    <tr>\n",
       "      <th>1726954</th>\n",
       "      <td>3</td>\n",
       "      <td>havana</td>\n",
       "      <td>gene</td>\n",
       "      <td>28349178</td>\n",
       "      <td>29767537</td>\n",
       "      <td>.</td>\n",
       "      <td>+</td>\n",
       "      <td>.</td>\n",
       "      <td>ID=gene:ENSG00000283563;Name=RP11-9J18.1;bioty...</td>\n",
       "      <td>1418360</td>\n",
       "    </tr>\n",
       "    <tr>\n",
       "      <th>1839600</th>\n",
       "      <td>3</td>\n",
       "      <td>havana</td>\n",
       "      <td>gene</td>\n",
       "      <td>174438573</td>\n",
       "      <td>175810552</td>\n",
       "      <td>.</td>\n",
       "      <td>+</td>\n",
       "      <td>.</td>\n",
       "      <td>ID=gene:ENSG00000177694;Name=NAALADL2;biotype=...</td>\n",
       "      <td>1371980</td>\n",
       "    </tr>\n",
       "    <tr>\n",
       "      <th>2529106</th>\n",
       "      <td>X</td>\n",
       "      <td>havana</td>\n",
       "      <td>gene</td>\n",
       "      <td>37349330</td>\n",
       "      <td>38687674</td>\n",
       "      <td>.</td>\n",
       "      <td>+</td>\n",
       "      <td>.</td>\n",
       "      <td>ID=gene:ENSG00000250349;Name=RP5-972B16.2;biot...</td>\n",
       "      <td>1338345</td>\n",
       "    </tr>\n",
       "    <tr>\n",
       "      <th>978149</th>\n",
       "      <td>16</td>\n",
       "      <td>havana</td>\n",
       "      <td>gene</td>\n",
       "      <td>82626803</td>\n",
       "      <td>83800640</td>\n",
       "      <td>.</td>\n",
       "      <td>+</td>\n",
       "      <td>.</td>\n",
       "      <td>ID=gene:ENSG00000140945;Name=CDH13;biotype=pro...</td>\n",
       "      <td>1173838</td>\n",
       "    </tr>\n",
       "    <tr>\n",
       "      <th>...</th>\n",
       "      <td>...</td>\n",
       "      <td>...</td>\n",
       "      <td>...</td>\n",
       "      <td>...</td>\n",
       "      <td>...</td>\n",
       "      <td>...</td>\n",
       "      <td>...</td>\n",
       "      <td>...</td>\n",
       "      <td>...</td>\n",
       "      <td>...</td>\n",
       "    </tr>\n",
       "    <tr>\n",
       "      <th>2524689</th>\n",
       "      <td>X</td>\n",
       "      <td>havana</td>\n",
       "      <td>gene</td>\n",
       "      <td>21421822</td>\n",
       "      <td>21422294</td>\n",
       "      <td>.</td>\n",
       "      <td>-</td>\n",
       "      <td>.</td>\n",
       "      <td>ID=gene:ENSG00000231913;Name=RARRES2P3;biotype...</td>\n",
       "      <td>473</td>\n",
       "    </tr>\n",
       "    <tr>\n",
       "      <th>1465835</th>\n",
       "      <td>2</td>\n",
       "      <td>havana</td>\n",
       "      <td>gene</td>\n",
       "      <td>136329441</td>\n",
       "      <td>136329913</td>\n",
       "      <td>.</td>\n",
       "      <td>-</td>\n",
       "      <td>.</td>\n",
       "      <td>ID=gene:ENSG00000230037;Name=UBBP1;biotype=pro...</td>\n",
       "      <td>473</td>\n",
       "    </tr>\n",
       "    <tr>\n",
       "      <th>1633851</th>\n",
       "      <td>21</td>\n",
       "      <td>havana</td>\n",
       "      <td>gene</td>\n",
       "      <td>39127568</td>\n",
       "      <td>39128040</td>\n",
       "      <td>.</td>\n",
       "      <td>+</td>\n",
       "      <td>.</td>\n",
       "      <td>ID=gene:ENSG00000228861;Name=RPL23AP12;biotype...</td>\n",
       "      <td>473</td>\n",
       "    </tr>\n",
       "    <tr>\n",
       "      <th>1177199</th>\n",
       "      <td>18</td>\n",
       "      <td>havana</td>\n",
       "      <td>gene</td>\n",
       "      <td>35257040</td>\n",
       "      <td>35257512</td>\n",
       "      <td>.</td>\n",
       "      <td>+</td>\n",
       "      <td>.</td>\n",
       "      <td>ID=gene:ENSG00000279989;Name=RP11-158H5.2;biot...</td>\n",
       "      <td>473</td>\n",
       "    </tr>\n",
       "    <tr>\n",
       "      <th>1569035</th>\n",
       "      <td>20</td>\n",
       "      <td>havana</td>\n",
       "      <td>gene</td>\n",
       "      <td>11345383</td>\n",
       "      <td>11345855</td>\n",
       "      <td>.</td>\n",
       "      <td>-</td>\n",
       "      <td>.</td>\n",
       "      <td>ID=gene:ENSG00000235544;Name=RPS11P1;biotype=p...</td>\n",
       "      <td>473</td>\n",
       "    </tr>\n",
       "  </tbody>\n",
       "</table>\n",
       "<p>17915 rows × 10 columns</p>\n",
       "</div>"
      ],
      "text/plain": [
       "        seqid  source  type      start        end score strand phase  \\\n",
       "1466328     2  havana  gene  140231423  142131701     .      -     .   \n",
       "1726954     3  havana  gene   28349178   29767537     .      +     .   \n",
       "1839600     3  havana  gene  174438573  175810552     .      +     .   \n",
       "2529106     X  havana  gene   37349330   38687674     .      +     .   \n",
       "978149     16  havana  gene   82626803   83800640     .      +     .   \n",
       "...       ...     ...   ...        ...        ...   ...    ...   ...   \n",
       "2524689     X  havana  gene   21421822   21422294     .      -     .   \n",
       "1465835     2  havana  gene  136329441  136329913     .      -     .   \n",
       "1633851    21  havana  gene   39127568   39128040     .      +     .   \n",
       "1177199    18  havana  gene   35257040   35257512     .      +     .   \n",
       "1569035    20  havana  gene   11345383   11345855     .      -     .   \n",
       "\n",
       "                                                attributes   length  \n",
       "1466328  ID=gene:ENSG00000168702;Name=LRP1B;biotype=pro...  1900279  \n",
       "1726954  ID=gene:ENSG00000283563;Name=RP11-9J18.1;bioty...  1418360  \n",
       "1839600  ID=gene:ENSG00000177694;Name=NAALADL2;biotype=...  1371980  \n",
       "2529106  ID=gene:ENSG00000250349;Name=RP5-972B16.2;biot...  1338345  \n",
       "978149   ID=gene:ENSG00000140945;Name=CDH13;biotype=pro...  1173838  \n",
       "...                                                    ...      ...  \n",
       "2524689  ID=gene:ENSG00000231913;Name=RARRES2P3;biotype...      473  \n",
       "1465835  ID=gene:ENSG00000230037;Name=UBBP1;biotype=pro...      473  \n",
       "1633851  ID=gene:ENSG00000228861;Name=RPL23AP12;biotype...      473  \n",
       "1177199  ID=gene:ENSG00000279989;Name=RP11-158H5.2;biot...      473  \n",
       "1569035  ID=gene:ENSG00000235544;Name=RPS11P1;biotype=p...      473  \n",
       "\n",
       "[17915 rows x 10 columns]"
      ]
     },
     "execution_count": 25,
     "metadata": {},
     "output_type": "execute_result"
    }
   ],
   "source": [
    "#I filter out the genes that have length less than doubled mean length of exon.\n",
    "gf[gf.length > 472].sort_values('length').iloc[::-1]"
   ]
  },
  {
   "cell_type": "code",
   "execution_count": 24,
   "id": "cda86aa3-1ae7-499d-b58b-ae67ee36bd5d",
   "metadata": {},
   "outputs": [
    {
     "data": {
      "text/plain": [
       "0.7654020336665812"
      ]
     },
     "execution_count": 24,
     "metadata": {},
     "output_type": "execute_result"
    }
   ],
   "source": [
    "#Here I divide numbers of genes that have more than doubled mean length of exon by total numbers of genes\n",
    "17915/len(gf)"
   ]
  },
  {
   "cell_type": "markdown",
   "id": "27df948e-9960-484f-ae91-0322ffe9bd8a",
   "metadata": {},
   "source": [
    "### DISCUSSION<br>\n",
    "\n",
    "Transcripts are composed of 5'- and 3'- Untranslated regions (UTR) and exons. Here I did not include the length of UTR; however, a gene contains, at least, one or more exons in the theory. When I googled it, average is 3.42 transcripts per gene.  I have the average number of 1.175 which are much smaller, and this number can be smaller if I have counted UTR regions.  One possible explanation is that genes in the three sources are lack of isoforms. At last, the percentage of a gene contain more than one transcripts is 76.54%."
   ]
  },
  {
   "cell_type": "markdown",
   "id": "240dc822-89bd-4539-a345-1de0a00ff997",
   "metadata": {},
   "source": [
    "Resources to check out\n",
    "1. https://daler.github.io/gffutils/\n",
    "2. http://seqanswers.com/forums/showthread.php?t=4914"
   ]
  },
  {
   "cell_type": "markdown",
   "id": "953242ab-aaea-4129-89c8-a78c6b3e249e",
   "metadata": {},
   "source": [
    "See also\n",
    "\n",
    "   #### [The GFF spec can be found here](https://www.sanger.ac.uk/resources/software/gff/spec.html)\n",
    "   #### [A great explanation on the GFF format can be found here](http://gmod.org/wiki/GFF3)"
   ]
  }
 ],
 "metadata": {
  "kernelspec": {
   "display_name": "Python 3 (ipykernel)",
   "language": "python",
   "name": "python3"
  },
  "language_info": {
   "codemirror_mode": {
    "name": "ipython",
    "version": 3
   },
   "file_extension": ".py",
   "mimetype": "text/x-python",
   "name": "python",
   "nbconvert_exporter": "python",
   "pygments_lexer": "ipython3",
   "version": "3.9.12"
  }
 },
 "nbformat": 4,
 "nbformat_minor": 5
}
