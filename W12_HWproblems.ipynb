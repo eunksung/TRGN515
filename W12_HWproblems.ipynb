{
 "cells": [
  {
   "cell_type": "markdown",
   "id": "d2c2d9aa-2d97-452d-9803-d10e2d14682c",
   "metadata": {},
   "source": [
    "# W11-H22\n",
    "\n",
    "1. Using the imported libraries, plot the distribution of three variables of choice for the breast cancer dataset. Discuss the normality of the distribution and explain if the data needs any transformation.\n",
    "\n",
    "2. Among the variables, what looks like the most defining variable for benign cancer vs malignant cancer? How would you observe/test that?\n",
    "\n",
    "3. What is the relationship between target and mean radius of the tumor? Hint: boxplot\n",
    "\n",
    "4. Build a logistic regression model of your own using other features in this dataset, such as the mean texture and mean symmetry. \n",
    "\n",
    "5. Bonus question: Why should we choose mean or median values for when we replace missing values in a dataset? Or what else can we do to address the missing values in a dataset? (2 points)\n"
   ]
  },
  {
   "cell_type": "code",
   "execution_count": 4,
   "id": "386a1390-78e7-4ad2-a72b-50052dc48778",
   "metadata": {},
   "outputs": [],
   "source": [
    "%matplotlib inline\n",
    "\n",
    "import matplotlib.pyplot as plt\n",
    "import numpy as np\n",
    "import seaborn as sns\n",
    "import pandas as pd\n",
    "from matplotlib import rcParams"
   ]
  },
  {
   "cell_type": "code",
   "execution_count": 5,
   "id": "9d8c1d76-a3ec-4def-bfd0-732d59985828",
   "metadata": {},
   "outputs": [],
   "source": [
    "from sklearn import datasets\n",
    "\n",
    "def sklearn_to_df(sklearn_dataset):\n",
    "    df = pd.DataFrame(sklearn_dataset.data, columns=sklearn_dataset.feature_names)\n",
    "    df['target'] = pd.Series(sklearn_dataset.target)\n",
    "    return df\n",
    "\n",
    "df = sklearn_to_df(datasets.load_breast_cancer())"
   ]
  },
  {
   "cell_type": "code",
   "execution_count": 7,
   "id": "8409f6df-8992-473d-812c-68ba86b4bf44",
   "metadata": {},
   "outputs": [],
   "source": [
    "sub_df = df[['mean radius','mean smoothness','mean compactness']]"
   ]
  },
  {
   "cell_type": "code",
   "execution_count": 25,
   "id": "b8d18440-c280-4f34-b712-9e51fd429698",
   "metadata": {},
   "outputs": [
    {
     "data": {
      "image/png": "[encoded data removed]",
      "text/plain": [
       "<Figure size 720x1440 with 3 Axes>"
      ]
     },
     "metadata": {},
     "output_type": "display_data"
    }
   ],
   "source": [
    "feature_names = [cname for cname in sub_df.iloc[:,:].columns]\n",
    "rcParams['figure.figsize'] = 10,20\n",
    "sns.set(font_scale = 1)\n",
    "sns.set_style(\"white\")\n",
    "sns.set_palette(\"bright\")\n",
    "plt.subplots_adjust(hspace=0.3)\n",
    "i = 1;\n",
    "for name in feature_names:\n",
    "    plt.subplot(3,1,i)\n",
    "    sns.histplot(data=sub_df, x=name,palette=\"YlGnBu\")\n",
    "    i = i + 1"
   ]
  },
  {
   "cell_type": "markdown",
   "id": "b28a659d-2724-4ddc-8860-b2c84e193f32",
   "metadata": {},
   "source": [
    "Answer 1\\\n",
    "The \"mean smoothness\" has normal distribution whereas \"mean radius\" and \"mean compactness\" skew to right. In the situation, I might transform the \"mean radius\" and \"mean compactness\" by power transforms."
   ]
  },
  {
   "cell_type": "markdown",
   "id": "bb11b3b9-b896-497d-b13e-73f009605479",
   "metadata": {},
   "source": [
    "Answer 2\\\n",
    "The \"mean radius\" is the most defining variable for malignant and benign cancer. Like we did in the class, by generating the correlation matrix and visualizing it with heatmap, I can check the degree of the correlation between the features and the target, so I can confirm whether the \"mean radius\" is the most defining variable or not."
   ]
  },
  {
   "cell_type": "markdown",
   "id": "d2f7be0e-2eb0-4d43-bb47-ecd05a21228d",
   "metadata": {},
   "source": [
    "Answer 3\\\n",
    "From the heatmap which we are generated in the class, I can check the correlation score between \"mean radius\" and \"target\". The correlation score was - 0.73. The score tells they are negtively and highly correlated."
   ]
  },
  {
   "cell_type": "markdown",
   "id": "edafc79d-ad92-47b7-a785-efc01043903f",
   "metadata": {},
   "source": [
    "Answer 4"
   ]
  },
  {
   "cell_type": "code",
   "execution_count": 2,
   "id": "a03e917d-b92f-4076-9abe-6a05cf78412e",
   "metadata": {},
   "outputs": [],
   "source": [
    "from sklearn.model_selection import train_test_split\n",
    "from sklearn.preprocessing import StandardScaler\n",
    "\n",
    "from sklearn.linear_model import LogisticRegression"
   ]
  },
  {
   "cell_type": "code",
   "execution_count": 6,
   "id": "d27cbc01-39ad-4d94-87ba-2abb6d6220bc",
   "metadata": {},
   "outputs": [],
   "source": [
    "dict = {0:'malignant',1:'benign'}\n",
    "df['target'] = df['target'].replace(dict)"
   ]
  },
  {
   "cell_type": "code",
   "execution_count": 7,
   "id": "8b5dc920-f70c-4a09-a0ab-2bab6156ccb5",
   "metadata": {},
   "outputs": [],
   "source": [
    "X_train, X_test, y_train, y_test = train_test_split(df[['mean symmetry']], df['target'], random_state=0)"
   ]
  },
  {
   "cell_type": "code",
   "execution_count": 8,
   "id": "0777aba0-a207-420a-9a14-09f3c70ea2de",
   "metadata": {},
   "outputs": [],
   "source": [
    "# Standardize the dataset’s features\n",
    "scaler = StandardScaler()\n",
    "\n",
    "# Fit on training set only\n",
    "scaler.fit(X_train)\n",
    "\n",
    "# Apply transform to both the training set and the test set\n",
    "X_train = scaler.transform(X_train)\n",
    "X_test = scaler.transform(X_test)"
   ]
  },
  {
   "cell_type": "code",
   "execution_count": 9,
   "id": "d84c72e2-08f2-4838-968f-b0a56d1b8ab6",
   "metadata": {},
   "outputs": [
    {
     "data": {
      "text/plain": [
       "LogisticRegression()"
      ]
     },
     "execution_count": 9,
     "metadata": {},
     "output_type": "execute_result"
    }
   ],
   "source": [
    "\n",
    "clf = LogisticRegression()\n",
    "\n",
    "# Training the model\n",
    "clf.fit(X_train, y_train)"
   ]
  },
  {
   "cell_type": "code",
   "execution_count": 10,
   "id": "e58b34ae-1dd1-4b61-81ad-2a8c570b3719",
   "metadata": {},
   "outputs": [
    {
     "name": "stdout",
     "output_type": "stream",
     "text": [
      "training dataset accuracy:  0.6784037558685446\n"
     ]
    }
   ],
   "source": [
    "score_train = clf.score(X_train, y_train)\n",
    "print('training dataset accuracy: ', score_train)"
   ]
  },
  {
   "cell_type": "code",
   "execution_count": 11,
   "id": "f260a548-f2a4-4d48-bc65-7d6e2009d8b8",
   "metadata": {},
   "outputs": [
    {
     "name": "stdout",
     "output_type": "stream",
     "text": [
      "probability [[0.42272508 0.57727492]]\n"
     ]
    }
   ],
   "source": [
    "print('probability', clf.predict_proba(X_test[0].reshape(1,-1)))"
   ]
  },
  {
   "cell_type": "code",
   "execution_count": 13,
   "id": "cbf339ab-fa22-4bda-83dc-e5a6891f4f44",
   "metadata": {},
   "outputs": [
    {
     "name": "stdout",
     "output_type": "stream",
     "text": [
      "Misclassified examples: 49\n"
     ]
    }
   ],
   "source": [
    "y_pred = clf.predict(X_test)\n",
    "print('Misclassified examples: %d' % (y_test != y_pred).sum())"
   ]
  },
  {
   "cell_type": "code",
   "execution_count": 14,
   "id": "d565d03f-3a5b-4e75-bbbe-9dfd1227f0d0",
   "metadata": {},
   "outputs": [
    {
     "data": {
      "text/plain": [
       "(143, 1)"
      ]
     },
     "execution_count": 14,
     "metadata": {},
     "output_type": "execute_result"
    }
   ],
   "source": [
    "X_test.shape"
   ]
  },
  {
   "cell_type": "code",
   "execution_count": 17,
   "id": "ba4500a8-5153-4c84-9434-a74cc0c49db0",
   "metadata": {},
   "outputs": [
    {
     "name": "stdout",
     "output_type": "stream",
     "text": [
      "Error Percentage : 0.34265734265734266\n"
     ]
    }
   ],
   "source": [
    "Error = 49/143\n",
    "print('Error Percentage : {}'.format(Error))"
   ]
  },
  {
   "cell_type": "markdown",
   "id": "f33356f9-0c8d-4884-a877-c8a2c1bf7544",
   "metadata": {},
   "source": [
    "Answer 5\\\n",
    "We have to replace the missing values with mean or median when there are high percentages of missing values presented in the features. The high percentage of the missing values are negatively impact on the model to produce bias.\\\n",
    "If we have a big size of a dataset and there are not much of missing values in the datset, then we can drop those data points contains the missing values as well."
   ]
  }
 ],
 "metadata": {
  "kernelspec": {
   "display_name": "Python 3 (ipykernel)",
   "language": "python",
   "name": "python3"
  },
  "language_info": {
   "codemirror_mode": {
    "name": "ipython",
    "version": 3
   },
   "file_extension": ".py",
   "mimetype": "text/x-python",
   "name": "python",
   "nbconvert_exporter": "python",
   "pygments_lexer": "ipython3",
   "version": "3.9.12"
  }
 },
 "nbformat": 4,
 "nbformat_minor": 5
}
