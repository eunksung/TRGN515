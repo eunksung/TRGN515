{
 "cells": [
  {
   "cell_type": "markdown",
   "id": "cde778c6-d3de-4153-83ce-292b42a97e00",
   "metadata": {
    "tags": []
   },
   "source": [
    "# W1 - GitHub assignment\n",
    "\n",
    "- Find instructions to transfer files (final, completed homework in this case) to your Github repository\n",
    "- Share with me and your cohort a written report of instructions for file sharing from a server to GitHub repository (you can use Slack for exchanging ideas)\n"
   ]
  },
  {
   "cell_type": "markdown",
   "id": "1ad05518-d5ed-47cb-8bc2-d08371316493",
   "metadata": {},
   "source": [
    "# W1-HW1\n",
    "\n",
    "Let's remove some elements from the list, without changing the original list.\n",
    "Some hints for you to use:\n",
    "\n",
    "#pop()\n",
    "\n",
    "#remove()\n"
   ]
  },
  {
   "cell_type": "code",
   "execution_count": 1,
   "id": "b90b7c6d-ba0d-4fc5-b55d-683c00ab42bc",
   "metadata": {},
   "outputs": [
    {
     "name": "stdout",
     "output_type": "stream",
     "text": [
      "original list: ['Python', 'is', 'still', 'fun'], new list: ['Python', 'is', 'fun']\n"
     ]
    }
   ],
   "source": [
    "my_list = ['Python', 'is', 'still', 'fun']\n",
    "new_list = list(my_list)\n",
    "new_list.remove(new_list[2])\n",
    "print('original list: {}, new list: {}'.format(my_list, new_list))"
   ]
  },
  {
   "cell_type": "markdown",
   "id": "dce83d59-a2d0-4915-b6a1-3eaa9ec27df1",
   "metadata": {},
   "source": [
    "# W1-HW2 \n",
    "\n",
    "One other solution is to use copy() method, in order to avoid making changes to the original list\n",
    "\n",
    "use copy() method on the 'main_list' given in W1 Jupyter notebook and print it.\n"
   ]
  },
  {
   "cell_type": "code",
   "execution_count": 2,
   "id": "0b03ea92-0caa-401d-847d-815a7da6152c",
   "metadata": {},
   "outputs": [
    {
     "name": "stdout",
     "output_type": "stream",
     "text": [
      "Help on method_descriptor:\n",
      "\n",
      "copy(self, /)\n",
      "    Return a shallow copy of the list.\n",
      "\n"
     ]
    }
   ],
   "source": [
    "help(list.copy)"
   ]
  },
  {
   "cell_type": "code",
   "execution_count": 3,
   "id": "059f6a10-821e-4e97-bc81-04edadae65aa",
   "metadata": {},
   "outputs": [
    {
     "name": "stdout",
     "output_type": "stream",
     "text": [
      "original list: ['Python', 'is', 'still', 'fun'], copied list: ['Python', 'is', 'fun']\n"
     ]
    }
   ],
   "source": [
    "copied_list = my_list.copy()\n",
    "copied_list.remove(copied_list[2])\n",
    "print('original list: {}, copied list: {}'.format(my_list, copied_list))"
   ]
  },
  {
   "cell_type": "markdown",
   "id": "c8556415-62cd-4cbe-987a-3317925a70df",
   "metadata": {},
   "source": [
    "# W1-HW3\n",
    "\n",
    "Find 5 dictionary methods and use in different examples. Give three examples to errors, such as KeyError with detailed explanations. You can rely on Jupyter notebook features, such as markdown. For more features, you can refer to: https://www.datacamp.com/community/tutorials/markdown-in-jupyter-notebook\n"
   ]
  },
  {
   "cell_type": "markdown",
   "id": "702b16ea-64ea-4769-a47d-3e20d57c43f5",
   "metadata": {},
   "source": [
    "Method 1: copy() - return a copy of the dictionary"
   ]
  },
  {
   "cell_type": "code",
   "execution_count": 5,
   "id": "211a295b-7a3c-43f9-8e29-17d8bbab9714",
   "metadata": {},
   "outputs": [
    {
     "name": "stdout",
     "output_type": "stream",
     "text": [
      "Original my_dict contains: {'Canada': 'Ottawa', 'Japan': 'Tokyo', 'France': 'Paris', 'Egypt': 'Cairo'}\n",
      "Copied my_dcit contains: {'Canada': 'Ottawa', 'Japan': 'Tokyo', 'France': 'Paris', 'Egypt': 'Cairo'}\n"
     ]
    }
   ],
   "source": [
    "my_dict = {\n",
    "    'Canada' : 'Ottawa',\n",
    "    'Japan' : 'Tokyo',\n",
    "    'France' : 'Paris',\n",
    "    'Egypt' : 'Cairo'\n",
    "}\n",
    "print('Original my_dict contains: {}'.format(my_dict))\n",
    "\n",
    "copied_dict = my_dict.copy()\n",
    "print('Copied my_dcit contains: {}'.format(copied_dict))"
   ]
  },
  {
   "cell_type": "markdown",
   "id": "70bc0c49-53c1-4144-ad12-d4961fbf15b8",
   "metadata": {},
   "source": [
    "Method 2: __contains__() - Print \"True\" if the searching key is in the dictionary"
   ]
  },
  {
   "cell_type": "code",
   "execution_count": 6,
   "id": "b708aee5-1d08-4b00-8cf5-cb0a4d58b9ad",
   "metadata": {},
   "outputs": [
    {
     "data": {
      "text/plain": [
       "True"
      ]
     },
     "execution_count": 6,
     "metadata": {},
     "output_type": "execute_result"
    }
   ],
   "source": [
    "my_dict.__contains__('Japan')"
   ]
  },
  {
   "cell_type": "markdown",
   "id": "da4eb9bd-88fa-4f1d-b252-846def3171cf",
   "metadata": {},
   "source": [
    "Method 3: __setitem__() - Add item(key:value) to the dictionary"
   ]
  },
  {
   "cell_type": "code",
   "execution_count": 7,
   "id": "7abbc31c-7596-45e8-8b8e-7ba6a9e5cc20",
   "metadata": {},
   "outputs": [
    {
     "name": "stdout",
     "output_type": "stream",
     "text": [
      "{'Canada': 'Ottawa', 'Japan': 'Tokyo', 'France': 'Paris', 'Egypt': 'Cairo', 'China': 'Beijing'}\n"
     ]
    }
   ],
   "source": [
    "my_dict.__setitem__('China', 'Beijing')\n",
    "print(my_dict)"
   ]
  },
  {
   "cell_type": "markdown",
   "id": "f25b0c49-a13b-4127-b810-b0677f694256",
   "metadata": {},
   "source": [
    "Method 4: __delitem__() - Delete key along with its value in the dictionary"
   ]
  },
  {
   "cell_type": "code",
   "execution_count": 8,
   "id": "a1521384-5999-404b-b404-91d75b485b68",
   "metadata": {},
   "outputs": [
    {
     "name": "stdout",
     "output_type": "stream",
     "text": [
      "{'Canada': 'Ottawa', 'France': 'Paris', 'Egypt': 'Cairo', 'China': 'Beijing'}\n"
     ]
    }
   ],
   "source": [
    "my_dict.__delitem__('Japan')\n",
    "print(my_dict)"
   ]
  },
  {
   "cell_type": "markdown",
   "id": "5eacbf56-6769-45c7-9951-067744c397a8",
   "metadata": {},
   "source": [
    "Method 5: __len__() - Print length of the dcitionary"
   ]
  },
  {
   "cell_type": "code",
   "execution_count": 9,
   "id": "464e426f-13a6-4c06-8a7e-3c69e4ca8c25",
   "metadata": {},
   "outputs": [
    {
     "data": {
      "text/plain": [
       "4"
      ]
     },
     "execution_count": 9,
     "metadata": {},
     "output_type": "execute_result"
    }
   ],
   "source": [
    "my_dict.__len__()"
   ]
  },
  {
   "cell_type": "markdown",
   "id": "7f9fe810-8252-43ee-9b45-130fb2e5f6ca",
   "metadata": {
    "tags": []
   },
   "source": [
    "# W1-HW4 \n",
    "\n",
    "Print only the key and only the value of the dictionary in the below `for` loop.\n"
   ]
  },
  {
   "cell_type": "code",
   "execution_count": 11,
   "id": "3ef9a517-2096-4ee4-97c6-491fa3d81b29",
   "metadata": {},
   "outputs": [
    {
     "name": "stdout",
     "output_type": "stream",
     "text": [
      "ratatouille \n",
      "homemade pasta\n"
     ]
    }
   ],
   "source": [
    "recipe_dict = {} \n",
    "recipe_dict['ratatouille '] = ['eggplant', 'tomato', 'zucchini', 'onion', 'olive oil', 'garlic']\n",
    "recipe_dict['homemade pasta'] = ['semolina flour', 'olive oil', 'sea salt']\n",
    "for key in recipe_dict.keys(): \n",
    "    print(key)\n",
    "    "
   ]
  },
  {
   "cell_type": "code",
   "execution_count": 12,
   "id": "85c29510-19e7-4765-b3ff-0f9c544f3f9d",
   "metadata": {},
   "outputs": [
    {
     "name": "stdout",
     "output_type": "stream",
     "text": [
      "keys are: dict_keys(['ratatouille ', 'homemade pasta'])\n"
     ]
    }
   ],
   "source": [
    "print('keys are: {}'.format(recipe_dict.keys()))"
   ]
  },
  {
   "cell_type": "code",
   "execution_count": 13,
   "id": "69bb793f-ddc7-4695-a2e4-3ed9e1d9cb7f",
   "metadata": {},
   "outputs": [
    {
     "name": "stdout",
     "output_type": "stream",
     "text": [
      "Values are: dict_values([['eggplant', 'tomato', 'zucchini', 'onion', 'olive oil', 'garlic'], ['semolina flour', 'olive oil', 'sea salt']])\n"
     ]
    }
   ],
   "source": [
    "print('Values are: {}'.format(recipe_dict.values()))"
   ]
  },
  {
   "cell_type": "markdown",
   "id": "d3925da8-8bbe-4ae5-8096-ede3c68d7d1c",
   "metadata": {},
   "source": [
    "# W2-HW5\n",
    "\n",
    "get the squares of odd numbers in the given list.\n",
    "\n",
    "my_numbers = [1,3,5,7,9,12,19,21]\n",
    "\n",
    "steps in the algorithm:\n",
    "1. start for loop\n",
    "2. calculate the square of the numbers and print that as an output when the numbers are odd numbers "
   ]
  },
  {
   "cell_type": "code",
   "execution_count": 19,
   "id": "51aec2d9-e4ee-4b7a-b1af-9509a89a565e",
   "metadata": {},
   "outputs": [
    {
     "name": "stdout",
     "output_type": "stream",
     "text": [
      "1 is odd number from the square of a number in my_numbers.\n",
      "9 is odd number from the square of a number in my_numbers.\n",
      "25 is odd number from the square of a number in my_numbers.\n",
      "49 is odd number from the square of a number in my_numbers.\n",
      "81 is odd number from the square of a number in my_numbers.\n",
      "144 is odd number from the square of a number in my_numbers.\n",
      "361 is odd number from the square of a number in my_numbers.\n",
      "441 is odd number from the square of a number in my_numbers.\n"
     ]
    }
   ],
   "source": [
    "my_numbers = [1,3,5,7,9,12,19,21]\n",
    "#entering for loop\n",
    "for x in my_numbers:\n",
    "    sql = x ** 2  #square numbers in my_numbers list\n",
    "    if sql/2 != 0:\n",
    "        print('%d is odd number from the square of a number in my_numbers.' % (sql))\n",
    "    "
   ]
  },
  {
   "cell_type": "markdown",
   "id": "potential-california",
   "metadata": {},
   "source": [
    "# W2-HW6: find the dinucleotides\n",
    "\n",
    "Write a function named \"count_dinucleotides\", which will take dna and pair as its two arguments, i.e., count_dinucleotides(dna,pair)\n",
    "\n",
    "The output should be the count of how many of the given dinucleotides are found in the dna string.\n",
    "\n",
    "Example: If the DNA sequence is 'ACTGCTATCCATT' and the pair is 'AT' the output should be 2. "
   ]
  },
  {
   "cell_type": "code",
   "execution_count": 20,
   "id": "2e2064be-3dbb-4236-8fe8-55a28b4fbc60",
   "metadata": {},
   "outputs": [
    {
     "data": {
      "text/plain": [
       "{'AA': 1,\n",
       " 'AT': 0,\n",
       " 'AG': 2,\n",
       " 'AC': 0,\n",
       " 'TA': 0,\n",
       " 'TT': 0,\n",
       " 'TG': 2,\n",
       " 'TC': 1,\n",
       " 'GA': 1,\n",
       " 'GT': 1,\n",
       " 'GG': 0,\n",
       " 'GC': 3,\n",
       " 'CA': 0,\n",
       " 'CT': 2,\n",
       " 'CG': 1}"
      ]
     },
     "execution_count": 20,
     "metadata": {},
     "output_type": "execute_result"
    }
   ],
   "source": [
    "pair = ['AA','AT','AG','AC',\n",
    "        'TA','TT','TG','TC', \n",
    "        'GA','GT','GG','GC', \n",
    "        'CA','CT','CG','CT']\n",
    "\n",
    "def count_dinucleotides(dna,pair):\n",
    "    dna = dna.upper()\n",
    "    count = {x: 0 for x in pair}\n",
    "    for i in range(len(dna)):\n",
    "        if dna[i:i+2] in count:\n",
    "            count[dna[i:i+2]] += 1\n",
    "    return count\n",
    "\n",
    "count_dinucleotides('AAgcgctgagtcTGC',pair)"
   ]
  },
  {
   "cell_type": "code",
   "execution_count": 49,
   "id": "e0335cce-e4ce-4147-99a5-3f6ed33eb848",
   "metadata": {},
   "outputs": [
    {
     "data": {
      "text/plain": [
       "range(0, 15)"
      ]
     },
     "execution_count": 49,
     "metadata": {},
     "output_type": "execute_result"
    }
   ],
   "source": [
    "len('AAgcgctgagtcTGC')\n",
    "range(15)"
   ]
  },
  {
   "cell_type": "markdown",
   "id": "younger-bronze",
   "metadata": {},
   "source": [
    "# W2-HW7: convert codons to aminoacids\n",
    "\n",
    "Write a function called codon_to_aa() that takes in a single three-base-pair string and returns \n",
    "a one-character string with the corresponding amino acid code.\n",
    "\n",
    "You may need to define all 64 possibilities, so be careful not to make any typos! \n",
    "\n",
    "Here is a hint in case you want to use it: \n",
    "\n",
    "    dict_aa = {'ATA':'I', 'ATC':'I', 'ATT':'I', 'ATG':'M',\n",
    "        'ACA':'T', 'ACC':'T', 'ACG':'T', 'ACT':'T',\n",
    "        'AAC':'N', 'AAT':'N', 'AAA':'K', 'AAG':'K',\n",
    "        'AGC':'S', 'AGT':'S', 'AGA':'R', 'AGG':'R',                \n",
    "        'CTA':'L', 'CTC':'L', 'CTG':'L', 'CTT':'L',\n",
    "        'CCA':'P', 'CCC':'P', 'CCG':'P', 'CCT':'P',\n",
    "        'CAC':'H', 'CAT':'H', 'CAA':'Q', 'CAG':'Q',\n",
    "        'CGA':'R', 'CGC':'R', 'CGG':'R', 'CGT':'R',\n",
    "        'GTA':'V', 'GTC':'V', 'GTG':'V', 'GTT':'V',\n",
    "        'GCA':'A', 'GCC':'A', 'GCG':'A', 'GCT':'A',\n",
    "        'GAC':'D', 'GAT':'D', 'GAA':'E', 'GAG':'E',\n",
    "        'GGA':'G', 'GGC':'G', 'GGG':'G', 'GGT':'G',\n",
    "        'TCA':'S', 'TCC':'S', 'TCG':'S', 'TCT':'S',\n",
    "        'TTC':'F', 'TTT':'F', 'TTA':'L', 'TTG':'L',\n",
    "        'TAC':'Y', 'TAT':'Y', 'TAA':'_', 'TAG':'_',\n",
    "        'TGC':'C', 'TGT':'C', 'TGA':'_', 'TGG':'W'}\n",
    "\n",
    "If the input is not a valid three-base-pair DNA string, the function should return \"X\" to signify “unknown.” \n",
    "\n",
    "Test your function with a few calls like \n",
    "        \n",
    "        print(codon_to_aa(\"TCC\")), \n",
    "        print(codon_to_aa(\"GAA\")), \n",
    "        and print(codon_to_aa(\"BBB\")).\n"
   ]
  },
  {
   "cell_type": "code",
   "execution_count": 47,
   "id": "80e8a3f5-06b1-4207-b574-6ec1baf0f574",
   "metadata": {},
   "outputs": [
    {
     "name": "stdout",
     "output_type": "stream",
     "text": [
      "X\n"
     ]
    },
    {
     "data": {
      "text/plain": [
       "('S', None)"
      ]
     },
     "execution_count": 47,
     "metadata": {},
     "output_type": "execute_result"
    }
   ],
   "source": [
    "dict_aa = {'ATA':'I', 'ATC':'I', 'ATT':'I', 'ATG':'M',\n",
    "    'ACA':'T', 'ACC':'T', 'ACG':'T', 'ACT':'T',\n",
    "    'AAC':'N', 'AAT':'N', 'AAA':'K', 'AAG':'K',\n",
    "    'AGC':'S', 'AGT':'S', 'AGA':'R', 'AGG':'R',                \n",
    "    'CTA':'L', 'CTC':'L', 'CTG':'L', 'CTT':'L',\n",
    "    'CCA':'P', 'CCC':'P', 'CCG':'P', 'CCT':'P',\n",
    "    'CAC':'H', 'CAT':'H', 'CAA':'Q', 'CAG':'Q',\n",
    "    'CGA':'R', 'CGC':'R', 'CGG':'R', 'CGT':'R',\n",
    "    'GTA':'V', 'GTC':'V', 'GTG':'V', 'GTT':'V',\n",
    "    'GCA':'A', 'GCC':'A', 'GCG':'A', 'GCT':'A',\n",
    "    'GAC':'D', 'GAT':'D', 'GAA':'E', 'GAG':'E',\n",
    "    'GGA':'G', 'GGC':'G', 'GGG':'G', 'GGT':'G',\n",
    "    'TCA':'S', 'TCC':'S', 'TCG':'S', 'TCT':'S',\n",
    "    'TTC':'F', 'TTT':'F', 'TTA':'L', 'TTG':'L',\n",
    "    'TAC':'Y', 'TAT':'Y', 'TAA':'_', 'TAG':'_',\n",
    "    'TGC':'C', 'TGT':'C', 'TGA':'_', 'TGG':'W'}\n",
    "\n",
    "def codon_to_aa(triplet):\n",
    "    triple = triplet.upper()\n",
    "    if triplet in dict_aa:\n",
    "        return dict_aa[triplet]\n",
    "    else:\n",
    "        print('X')\n",
    "\n",
    "codon_to_aa(\"TCC\")"
   ]
  },
  {
   "cell_type": "markdown",
   "id": "997c33bc-b114-4271-84d8-cdb99dbab0e8",
   "metadata": {},
   "source": [
    "# W2-HW8: get substrings from a given string\n",
    "\n",
    "Write a program with a function called get_windows() that takes three parameters: \n",
    "\n",
    "    the sequence to extract windows from (string), \n",
    "    the window size (int), \n",
    "    and the step size (int). \n",
    "    \n",
    "The function should return a list of strings, one per window, with no “partial windows” \n",
    "if the last window would run off the end of the sequence.\n",
    "\n",
    "Then test your function for the following cases:\n",
    "\n",
    "    get_windows('AAACTGTCTCTA', 3, 2)\n",
    "    get_windows('AC', 4, 2)\n",
    "    get_windows('TCTCTATCGGACG', 2, 3)\n"
   ]
  },
  {
   "cell_type": "code",
   "execution_count": 57,
   "id": "9ee4f524-4d5f-4f28-ab8e-e9febe9417ad",
   "metadata": {},
   "outputs": [
    {
     "data": {
      "text/plain": [
       "['AAA', 'ACT', 'TGT', 'TCT', 'TCT']"
      ]
     },
     "execution_count": 57,
     "metadata": {},
     "output_type": "execute_result"
    }
   ],
   "source": [
    "def get_windows(seq, size, step):\n",
    "    list = []\n",
    "    z = 0\n",
    "    for x in range(len(seq)):\n",
    "        if len(seq[z:z+size]) == size:\n",
    "            list.append(seq[z:z+size])\n",
    "            z += step\n",
    "    return(list)\n",
    "\n",
    "get_windows('AAACTGTCTCTA', 3, 2)"
   ]
  },
  {
   "cell_type": "code",
   "execution_count": 58,
   "id": "6f0dd0fd-05dd-479e-93bf-9b36bb482cf1",
   "metadata": {},
   "outputs": [
    {
     "data": {
      "text/plain": [
       "[]"
      ]
     },
     "execution_count": 58,
     "metadata": {},
     "output_type": "execute_result"
    }
   ],
   "source": [
    "get_windows('AC', 4, 2)"
   ]
  },
  {
   "cell_type": "code",
   "execution_count": 59,
   "id": "0fe6fdf1-a653-4a8f-bf40-551b7261f365",
   "metadata": {},
   "outputs": [
    {
     "data": {
      "text/plain": [
       "['TC', 'CT', 'TC', 'GA']"
      ]
     },
     "execution_count": 59,
     "metadata": {},
     "output_type": "execute_result"
    }
   ],
   "source": [
    "get_windows('TCTCTATCGGACG', 2, 3)"
   ]
  },
  {
   "cell_type": "code",
   "execution_count": null,
   "id": "3bf54fe5-ca13-4ada-9873-5d6f353a796f",
   "metadata": {},
   "outputs": [],
   "source": []
  }
 ],
 "metadata": {
  "kernelspec": {
   "display_name": "Python 3 (ipykernel)",
   "language": "python",
   "name": "python3"
  },
  "language_info": {
   "codemirror_mode": {
    "name": "ipython",
    "version": 3
   },
   "file_extension": ".py",
   "mimetype": "text/x-python",
   "name": "python",
   "nbconvert_exporter": "python",
   "pygments_lexer": "ipython3",
   "version": "3.9.12"
  }
 },
 "nbformat": 4,
 "nbformat_minor": 5
}
