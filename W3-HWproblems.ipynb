{
 "cells": [
  {
   "cell_type": "markdown",
   "id": "24b9c38d-485b-4361-924f-345053b1ce0c",
   "metadata": {
    "tags": []
   },
   "source": [
    "## W3_HW9\n",
    "\n",
    "Go ahead and modify three plots of your choice from today's lecture by using what we have learned and also at least three additional features from the matplotlib gallery that we have not covered in the lecture!\n",
    "\n",
    "Here are some tips for colors:\n",
    "\n",
    "Colors can be specified by single letters:\n",
    "\n",
    "    k - black\n",
    "    w - white\n",
    "    c - cyan\n",
    "    m - magenta\n",
    "    b - blue\n",
    "    r - red\n",
    "    y - yellow\n",
    "\n",
    "or by html color codes ('red', 'orange', 'steelblue', etc)\n",
    "\n",
    "or by hex color codes (#BDA493, #63C638, etc - A very handy color picker can be found here)"
   ]
  },
  {
   "cell_type": "code",
   "execution_count": 8,
   "id": "34bb2d9b-e39d-425a-91ca-6b551581e78b",
   "metadata": {},
   "outputs": [
    {
     "data": {
      "image/png": "[encoded data removed]",
      "text/plain": [
       "<Figure size 432x288 with 1 Axes>"
      ]
     },
     "metadata": {
      "needs_background": "light"
     },
     "output_type": "display_data"
    }
   ],
   "source": [
    "import matplotlib.pyplot as plt\n",
    "%matplotlib inline\n",
    "\n",
    "my_numbers = [1.1, 4, 2.2, 5.7]\n",
    "plt.plot([6.8, 4.3, 3.2, 8.1], my_numbers, 'c*-.')\n",
    "plt.axis([0,10,0,10])\n",
    "plt.show()"
   ]
  },
  {
   "cell_type": "code",
   "execution_count": 40,
   "id": "ea6439a1-ae56-4432-83a8-ed6485973e0d",
   "metadata": {},
   "outputs": [
    {
     "data": {
      "image/png": "[encoded data removed]",
      "text/plain": [
       "<Figure size 432x288 with 1 Axes>"
      ]
     },
     "metadata": {
      "needs_background": "light"
     },
     "output_type": "display_data"
    }
   ],
   "source": [
    "import numpy as np\n",
    "t = np.arange(0., 10., 0.5)\n",
    "plt.plot(t, t, 'm--*', label='linear')\n",
    "plt.plot(t, t**2, '#63C638', marker='>', label='square')\n",
    "plt.plot(t, t**3, color='steelblue', linestyle='-.', marker='s', markersize=10, label='cubic')\n",
    "\n",
    "plt.legend(loc='upper left', fontsize='large')\n",
    "\n",
    "plt.show()"
   ]
  },
  {
   "cell_type": "code",
   "execution_count": 89,
   "id": "f946ab39-db52-4722-bd88-0cde98f20574",
   "metadata": {},
   "outputs": [
    {
     "data": {
      "text/plain": [
       "<function matplotlib.pyplot.show(close=None, block=None)>"
      ]
     },
     "execution_count": 89,
     "metadata": {},
     "output_type": "execute_result"
    },
    {
     "data": {
      "image/png": "[encoded data removed]",
      "text/plain": [
       "<Figure size 432x288 with 1 Axes>"
      ]
     },
     "metadata": {
      "needs_background": "light"
     },
     "output_type": "display_data"
    }
   ],
   "source": [
    "import pandas as pd\n",
    "df_asthma = pd.read_csv(\"datasets/asthma.csv\")\n",
    "df_subset = df_asthma[df_asthma['Strata Name']=='All Ages']\n",
    "df_pivot = df_subset.pivot( values='Rate', \n",
    "                            columns='Year', \n",
    "                            index='Geography'\n",
    "                          )\n",
    "\n",
    "df_pivot.plot(kind='box',  \n",
    "              color=dict(boxes='#12427C', whiskers='r', caps='#B34DBF'),\n",
    "              medianprops = dict(linestyle='--', linewidth=2.5, color='firebrick'),\n",
    "              boxprops=dict(linestyle='-',linewidth=3, ),\n",
    "              whiskerprops=dict(linestyle='-.',linewidth=3,),\n",
    "             )\n",
    "\n",
    "plt.show"
   ]
  },
  {
   "cell_type": "markdown",
   "id": "a1f39fc1-6493-4259-b416-b43d95ad4f87",
   "metadata": {},
   "source": [
    "## W3_HW10\n",
    "\n",
    "Can you create a graph that shows the ED admission rate for each county, plotting under 18 against 18 and over, displaying separately each sex?"
   ]
  },
  {
   "cell_type": "code",
   "execution_count": 70,
   "id": "084e9289-71e0-41c6-8983-fc42c7f54122",
   "metadata": {},
   "outputs": [],
   "source": [
    "import seaborn as sns"
   ]
  },
  {
   "cell_type": "code",
   "execution_count": 74,
   "id": "101d5a29-d97b-44b5-a5d9-d5f75efe1594",
   "metadata": {
    "tags": []
   },
   "outputs": [
    {
     "data": {
      "text/html": [
       "<div>\n",
       "<style scoped>\n",
       "    .dataframe tbody tr th:only-of-type {\n",
       "        vertical-align: middle;\n",
       "    }\n",
       "\n",
       "    .dataframe tbody tr th {\n",
       "        vertical-align: top;\n",
       "    }\n",
       "\n",
       "    .dataframe thead th {\n",
       "        text-align: right;\n",
       "    }\n",
       "</style>\n",
       "<table border=\"1\" class=\"dataframe\">\n",
       "  <thead>\n",
       "    <tr style=\"text-align: right;\">\n",
       "      <th></th>\n",
       "      <th>LGHC Indicator Name</th>\n",
       "      <th>Geography</th>\n",
       "      <th>Year</th>\n",
       "      <th>Age Group</th>\n",
       "      <th>Strata</th>\n",
       "      <th>Strata Name</th>\n",
       "      <th>Numerator</th>\n",
       "      <th>Rate</th>\n",
       "      <th>LGHC Indicator ID</th>\n",
       "      <th>LGHC Target Rate</th>\n",
       "    </tr>\n",
       "  </thead>\n",
       "  <tbody>\n",
       "    <tr>\n",
       "      <th>0</th>\n",
       "      <td>Asthma ED Visit Rates</td>\n",
       "      <td>Alameda</td>\n",
       "      <td>2015</td>\n",
       "      <td>18 and Over</td>\n",
       "      <td>Total Population</td>\n",
       "      <td>18 and Over</td>\n",
       "      <td>6,513</td>\n",
       "      <td>53.1</td>\n",
       "      <td>7</td>\n",
       "      <td>28</td>\n",
       "    </tr>\n",
       "    <tr>\n",
       "      <th>1</th>\n",
       "      <td>Asthma ED Visit Rates</td>\n",
       "      <td>Amador</td>\n",
       "      <td>2015</td>\n",
       "      <td>18 and Over</td>\n",
       "      <td>Total Population</td>\n",
       "      <td>18 and Over</td>\n",
       "      <td>151</td>\n",
       "      <td>49.1</td>\n",
       "      <td>7</td>\n",
       "      <td>28</td>\n",
       "    </tr>\n",
       "    <tr>\n",
       "      <th>2</th>\n",
       "      <td>Asthma ED Visit Rates</td>\n",
       "      <td>Butte</td>\n",
       "      <td>2015</td>\n",
       "      <td>18 and Over</td>\n",
       "      <td>Total Population</td>\n",
       "      <td>18 and Over</td>\n",
       "      <td>736</td>\n",
       "      <td>43.8</td>\n",
       "      <td>7</td>\n",
       "      <td>28</td>\n",
       "    </tr>\n",
       "    <tr>\n",
       "      <th>3</th>\n",
       "      <td>Asthma ED Visit Rates</td>\n",
       "      <td>Calaveras</td>\n",
       "      <td>2015</td>\n",
       "      <td>18 and Over</td>\n",
       "      <td>Total Population</td>\n",
       "      <td>18 and Over</td>\n",
       "      <td>139</td>\n",
       "      <td>42.7</td>\n",
       "      <td>7</td>\n",
       "      <td>28</td>\n",
       "    </tr>\n",
       "    <tr>\n",
       "      <th>4</th>\n",
       "      <td>Asthma ED Visit Rates</td>\n",
       "      <td>California</td>\n",
       "      <td>2015</td>\n",
       "      <td>18 and Over</td>\n",
       "      <td>Total Population</td>\n",
       "      <td>18 and Over</td>\n",
       "      <td>117,854</td>\n",
       "      <td>40.0</td>\n",
       "      <td>7</td>\n",
       "      <td>28</td>\n",
       "    </tr>\n",
       "  </tbody>\n",
       "</table>\n",
       "</div>"
      ],
      "text/plain": [
       "     LGHC Indicator Name   Geography  Year    Age Group            Strata  \\\n",
       "0  Asthma ED Visit Rates     Alameda  2015  18 and Over  Total Population   \n",
       "1  Asthma ED Visit Rates      Amador  2015  18 and Over  Total Population   \n",
       "2  Asthma ED Visit Rates       Butte  2015  18 and Over  Total Population   \n",
       "3  Asthma ED Visit Rates   Calaveras  2015  18 and Over  Total Population   \n",
       "4  Asthma ED Visit Rates  California  2015  18 and Over  Total Population   \n",
       "\n",
       "   Strata Name Numerator  Rate  LGHC Indicator ID  LGHC Target Rate  \n",
       "0  18 and Over     6,513  53.1                  7                28  \n",
       "1  18 and Over       151  49.1                  7                28  \n",
       "2  18 and Over       736  43.8                  7                28  \n",
       "3  18 and Over       139  42.7                  7                28  \n",
       "4  18 and Over   117,854  40.0                  7                28  "
      ]
     },
     "execution_count": 74,
     "metadata": {},
     "output_type": "execute_result"
    }
   ],
   "source": [
    "new_df = df_asthma[df_asthma['Year']==2015]\n",
    "new_df.head()"
   ]
  },
  {
   "cell_type": "code",
   "execution_count": 94,
   "id": "b8fb88e8-42fc-4b5a-88a9-dacf24c06ad9",
   "metadata": {},
   "outputs": [
    {
     "data": {
      "text/html": [
       "<div>\n",
       "<style scoped>\n",
       "    .dataframe tbody tr th:only-of-type {\n",
       "        vertical-align: middle;\n",
       "    }\n",
       "\n",
       "    .dataframe tbody tr th {\n",
       "        vertical-align: top;\n",
       "    }\n",
       "\n",
       "    .dataframe thead th {\n",
       "        text-align: right;\n",
       "    }\n",
       "</style>\n",
       "<table border=\"1\" class=\"dataframe\">\n",
       "  <thead>\n",
       "    <tr style=\"text-align: right;\">\n",
       "      <th>Age Group</th>\n",
       "      <th>18 and Over</th>\n",
       "      <th>All Ages</th>\n",
       "      <th>Under 18</th>\n",
       "      <th>Sex</th>\n",
       "    </tr>\n",
       "    <tr>\n",
       "      <th>Geography</th>\n",
       "      <th></th>\n",
       "      <th></th>\n",
       "      <th></th>\n",
       "      <th></th>\n",
       "    </tr>\n",
       "  </thead>\n",
       "  <tbody>\n",
       "    <tr>\n",
       "      <th>Alameda</th>\n",
       "      <td>60.5</td>\n",
       "      <td>65.0</td>\n",
       "      <td>78.0</td>\n",
       "      <td>Female</td>\n",
       "    </tr>\n",
       "    <tr>\n",
       "      <th>Amador</th>\n",
       "      <td>79.4</td>\n",
       "      <td>74.5</td>\n",
       "      <td>60.4</td>\n",
       "      <td>Female</td>\n",
       "    </tr>\n",
       "    <tr>\n",
       "      <th>Butte</th>\n",
       "      <td>52.6</td>\n",
       "      <td>53.6</td>\n",
       "      <td>56.3</td>\n",
       "      <td>Female</td>\n",
       "    </tr>\n",
       "    <tr>\n",
       "      <th>Calaveras</th>\n",
       "      <td>59.4</td>\n",
       "      <td>58.4</td>\n",
       "      <td>55.5</td>\n",
       "      <td>Female</td>\n",
       "    </tr>\n",
       "    <tr>\n",
       "      <th>California</th>\n",
       "      <td>49.2</td>\n",
       "      <td>52.1</td>\n",
       "      <td>60.2</td>\n",
       "      <td>Female</td>\n",
       "    </tr>\n",
       "  </tbody>\n",
       "</table>\n",
       "</div>"
      ],
      "text/plain": [
       "Age Group   18 and Over  All Ages  Under 18     Sex\n",
       "Geography                                          \n",
       "Alameda            60.5      65.0      78.0  Female\n",
       "Amador             79.4      74.5      60.4  Female\n",
       "Butte              52.6      53.6      56.3  Female\n",
       "Calaveras          59.4      58.4      55.5  Female\n",
       "California         49.2      52.1      60.2  Female"
      ]
     },
     "execution_count": 94,
     "metadata": {},
     "output_type": "execute_result"
    }
   ],
   "source": [
    "new_pivot = new_df[new_df['Strata Name']=='Female'].pivot(index='Geography', values='Rate', columns='Age Group')\n",
    "new_pivot2 = new_df[new_df['Strata Name']=='Male'].pivot(index='Geography', values='Rate', columns='Age Group')\n",
    "new_pivot['Sex']='Female'\n",
    "new_pivot2['Sex']='Male'\n",
    "df_concat = pd.concat([new_pivot, new_pivot2])\n",
    "df_concat.head()"
   ]
  },
  {
   "cell_type": "code",
   "execution_count": 95,
   "id": "dde7fa18-ab77-4211-ada6-23a8441a75b2",
   "metadata": {
    "tags": []
   },
   "outputs": [
    {
     "data": {
      "image/png": "[encoded data removed]",
      "text/plain": [
       "<Figure size 432.125x360 with 1 Axes>"
      ]
     },
     "metadata": {
      "needs_background": "light"
     },
     "output_type": "display_data"
    }
   ],
   "source": [
    "sns.lmplot(data=df_concat,\n",
    "           x='18 and Over', y='Under 18',\n",
    "           hue='Sex',\n",
    "           markers=['*','+'],\n",
    "           fit_reg=True,\n",
    "          )\n",
    "plt.show()"
   ]
  },
  {
   "cell_type": "code",
   "execution_count": null,
   "id": "9dfa6e91-ac09-4d58-a599-f8213367c426",
   "metadata": {},
   "outputs": [],
   "source": []
  },
  {
   "cell_type": "markdown",
   "id": "439c37a7-3218-4a11-a961-a157c418729b",
   "metadata": {
    "tags": []
   },
   "source": [
    "# W3_HW11\n",
    "\n",
    "Can you make the following boxplot look similar to the one we created using the df_pivot dataframe but instead, by using the original dataframe (df_asthma)? Hint: You will need to investigate your data, and may need to weed out the outliers.\n",
    "\n",
    "    df_asthma.plot(x='Year', y='Rate', kind='box')\n",
    "    plt.show()"
   ]
  },
  {
   "cell_type": "code",
   "execution_count": 65,
   "id": "ab90dcc1-91fb-41f1-acc0-e1378e08aec8",
   "metadata": {},
   "outputs": [
    {
     "data": {
      "image/png": "[encoded data removed]",
      "text/plain": [
       "<Figure size 432x288 with 1 Axes>"
      ]
     },
     "metadata": {
      "needs_background": "light"
     },
     "output_type": "display_data"
    }
   ],
   "source": [
    "df_asthma.plot(x='Year', y='Rate', kind='box', showfliers=False)\n",
    "plt.ylim(0,200)\n",
    "plt.show()"
   ]
  },
  {
   "cell_type": "markdown",
   "id": "bc61bde7-b1b8-4b92-b0d8-e38d9774edf6",
   "metadata": {},
   "source": [
    "# W3-HW12\n",
    "\n",
    "In what order should you run the following to generate and display a plot?\n",
    "\n",
    "    plt.legend()\n",
    "    x = np.linspace(1, 10, 30)\n",
    "    plt.show()\n",
    "    plt.ylabel('Y-Label')\n",
    "    plt.plot(x, label='Data viz example plot')"
   ]
  },
  {
   "cell_type": "code",
   "execution_count": 58,
   "id": "a493e9a2-d88c-47c0-8f4b-703a1bb10ed3",
   "metadata": {},
   "outputs": [
    {
     "data": {
      "image/png": "[encoded data removed]",
      "text/plain": [
       "<Figure size 432x288 with 1 Axes>"
      ]
     },
     "metadata": {
      "needs_background": "light"
     },
     "output_type": "display_data"
    }
   ],
   "source": [
    "x = np.linspace(1, 10, 30)\n",
    "plt.plot(x, label='Data viz example plot')\n",
    "plt.legend()\n",
    "plt.ylabel('Y-Label')\n",
    "plt.show()"
   ]
  },
  {
   "cell_type": "code",
   "execution_count": null,
   "id": "10f7a475-3b5c-4896-a84f-b4ab07b8b9eb",
   "metadata": {},
   "outputs": [],
   "source": []
  }
 ],
 "metadata": {
  "kernelspec": {
   "display_name": "Python 3 (ipykernel)",
   "language": "python",
   "name": "python3"
  },
  "language_info": {
   "codemirror_mode": {
    "name": "ipython",
    "version": 3
   },
   "file_extension": ".py",
   "mimetype": "text/x-python",
   "name": "python",
   "nbconvert_exporter": "python",
   "pygments_lexer": "ipython3",
   "version": "3.9.12"
  }
 },
 "nbformat": 4,
 "nbformat_minor": 5
}
