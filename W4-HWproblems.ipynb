{
 "cells": [
  {
   "cell_type": "markdown",
   "id": "bc722033-ceb8-4b8c-a60c-f644e18be948",
   "metadata": {},
   "source": [
    "#### W4-HW13: Write sets of Python functions that will take a DNA sequence and generate 1) reverse, 2) complement, 3) reverse complement of that input sequence. Provide explanations for what complement and reverse complement sequences mean in molecular biology. Address all [corner cases](http://carpentries-incubator.github.io/python-testing/06-edges/index.html) such as degenerate bases, wrong data type for input, etc. DO NOT use Biopython. Make sure to test your functions for a DNA sequence you found and downloaded from Genbank (please do not use examples shown in the class).\n"
   ]
  },
  {
   "cell_type": "code",
   "execution_count": 47,
   "id": "f5ed7e1b-0970-4efc-9d4a-a3d524018208",
   "metadata": {
    "tags": []
   },
   "outputs": [
    {
     "name": "stdout",
     "output_type": "stream",
     "text": [
      "TGACCTCAGGTGATCCACCTGCCTCAGCCTCCCAAAGTGCTGGGATTACAGGAGTCAGCCACCGCACCCA\n",
      "\n"
     ]
    }
   ],
   "source": [
    "# I download a TP53 fasta file from NCBI.\n",
    "s=open('/Users/eunnkyu/Downloads/sequence.fasta','r')\n",
    "lines=s.readlines()\n",
    "test_seq = lines[3]\n",
    "print(test_seq)"
   ]
  },
  {
   "cell_type": "code",
   "execution_count": 1,
   "id": "6e1d62a3-0f7b-4472-8e50-1dd50e5ed899",
   "metadata": {},
   "outputs": [],
   "source": [
    "def reverse_seq(seq):\n",
    "    sequence = seq.upper()\n",
    "    rev_sequence = sequence[::-1]\n",
    "    print(rev_sequence)"
   ]
  },
  {
   "cell_type": "code",
   "execution_count": 48,
   "id": "fbe31adc-0307-4ae8-a064-5b8245e7698b",
   "metadata": {},
   "outputs": [
    {
     "name": "stdout",
     "output_type": "stream",
     "text": [
      "\n",
      "ACCCACGCCACCGACTGAGGACATTAGGGTCGTGAAACCCTCCGACTCCGTCCACCTAGTGGACTCCAGT\n"
     ]
    }
   ],
   "source": [
    "reverse_seq(test_seq)"
   ]
  },
  {
   "cell_type": "code",
   "execution_count": 58,
   "id": "91da590b-face-456f-add7-54be69f4ee3b",
   "metadata": {},
   "outputs": [],
   "source": [
    "def complement(seq):\n",
    "    compl = ''\n",
    "    sequence = seq.upper()\n",
    "    for letter in sequence:\n",
    "        if letter == 'A':\n",
    "            compl += 'T'\n",
    "        elif letter == 'C':\n",
    "            compl += 'G'\n",
    "        elif letter == 'T':\n",
    "            compl += 'A'\n",
    "        else:\n",
    "            compl += 'C'\n",
    "    return compl"
   ]
  },
  {
   "cell_type": "code",
   "execution_count": 59,
   "id": "4d24009a-9f01-476c-9c5e-518d9b2f0bf2",
   "metadata": {},
   "outputs": [
    {
     "data": {
      "text/plain": [
       "'ACTGGAGTCCACTAGGTGGACGGAGTCGGAGGGTTTCACGACCCTAATGTCCTCAGTCGGTGGCGTGGGT'"
      ]
     },
     "execution_count": 59,
     "metadata": {},
     "output_type": "execute_result"
    }
   ],
   "source": [
    "complement('TGACCTCAGGTGATCCACCTGCCTCAGCCTCCCAAAGTGCTGGGATTACAGGAGTCAGCCACCGCACCCA')"
   ]
  },
  {
   "cell_type": "code",
   "execution_count": 67,
   "id": "290fa5bb-4b4b-40e2-a668-83613b1ab50e",
   "metadata": {},
   "outputs": [],
   "source": [
    "def rev_comp(seq):\n",
    "    cpl = ''\n",
    "    sequence = seq.upper()\n",
    "    for letter in sequence:\n",
    "        if letter == 'A':\n",
    "            cpl += 'T'\n",
    "        elif letter == 'C':\n",
    "            cpl += 'G'\n",
    "        elif letter == 'T':\n",
    "            cpl += 'A'\n",
    "        else:\n",
    "            cpl += 'C'\n",
    "    re_cpl = cpl[::-1]\n",
    "    return re_cpl"
   ]
  },
  {
   "cell_type": "code",
   "execution_count": 70,
   "id": "91777be5-95ce-4a41-a239-f1b43c82abb4",
   "metadata": {},
   "outputs": [
    {
     "data": {
      "text/plain": [
       "'TGGGTGCGGTGGCTGACTCCTGTAATCCCAGCACTTTGGGACCGGCTGAGGCAGGTGGATCACCTGAGGTCA'"
      ]
     },
     "execution_count": 70,
     "metadata": {},
     "output_type": "execute_result"
    }
   ],
   "source": [
    "rev_comp('TGACCTCAGGTGATCCACCTGCCTCAGCC  TCCCAAAGTGCTGGGATTACAGGAGTCAGCCACCGCACCCA')"
   ]
  },
  {
   "cell_type": "markdown",
   "id": "b1dfc503-d4c1-43c7-962b-086740b565f2",
   "metadata": {},
   "source": [
    "Coner cases that I can think for my python functions are inputting integers and floats rather than strings.  Because I didn't make up the statement for degenerated bases, adding degenearte bases as input would be corner cases. Special characters, numbers, letters, not related to the DNA sequences in a string would be corner cases as well."
   ]
  },
  {
   "cell_type": "markdown",
   "id": "f7eaa15b-28a5-4497-9417-75edc441e717",
   "metadata": {},
   "source": [
    "### Meaning of Complement and Reverse Complement in Molecular Biology\n",
    "Two strands of polynuclotide chain form double helix by fomring hydrogen bonds with bases. Because each base pairs with specificity, each strand of DNA is complement to each other. A RNA strand, such as mRNA, can be used as a template to synthesize the complementary DNA (cDNA), and this cDNA has same sequence as the template DNA was used for the transcription. The directionality of two strands of DNA are opposite to each other. If we separate a double helix DNA and put them in parallel to each other with same direction, then they will be reverse complement to each other. When we design for a DNA primer, we must find the reverse complement sequence of the template DNA."
   ]
  },
  {
   "cell_type": "markdown",
   "id": "a0281321-59aa-4616-a140-a256e451e062",
   "metadata": {},
   "source": [
    "#### W4-HW14: Explain how the built in reverse complement function work in Biopython. How does it handle degenerate bases?\n"
   ]
  },
  {
   "cell_type": "markdown",
   "id": "46fcb092-8113-4985-b9a1-f25c560e7358",
   "metadata": {},
   "source": [
    "The built in reverse complement function takes a Seq object first. While reading through the Seq object, it turns each element of the object into its designated complement letter and print them in the reverse order.\n",
    "\n",
    "The reverse complement funciton use Internation Union of Biochemistry (IUB) Base Code Guide:\n",
    "R=A+G; Y=C+T; M=A+C; K=G+T; S=G+C; W=A+T; H=A+T+C; B=G+T+C; D=G+A+T; V=G+A+C; N=A+C+G+T\n",
    "\n",
    "Here how this code complement:\n",
    "R <-> Y; M <-> K; S <-> S; W <-> W; H <-> D; B <-> V; N <-> N"
   ]
  },
  {
   "cell_type": "markdown",
   "id": "5c5351f0-f6f6-4f99-a85a-705105a72ef1",
   "metadata": {},
   "source": [
    "#### W4-HW15: What does the \"format_type\" keyword in qblast function do? Explain and show with examples. "
   ]
  },
  {
   "cell_type": "markdown",
   "id": "17fa4b56-bec4-43c6-afba-8ae4f52ffb17",
   "metadata": {},
   "source": [
    "The qblast function has an optional keyword \"format_type\" to set the format of the BLAST results to one of these format types: HTML, Text, ASN.1 or XML. The default is XML.\n",
    "Here I bring an example from the week 4 classnote with a modification:\n",
    "result_handle = NCBIWWW.qblast(\"blastn\", \"nt\", record.seq, format_type=\"HTML\")"
   ]
  },
  {
   "cell_type": "markdown",
   "id": "dbb47312-902b-4295-af2f-110086714782",
   "metadata": {},
   "source": [
    "#### W4-HW16: Can you fix the following code, so that it can extract and return two random sequences from the given fasta file?\n",
    "\n",
    "    # let's get some random sequences from our large fasta file: without using Biopython (you can use other modules)\n",
    "\n",
    "    import random\n",
    "\n",
    "    with open('../datasets/ls_orchid.fasta') as f:\n",
    "        data = f.read().splitlines()\n",
    "        print(data)\n",
    "        for i in random.sample(range(0, len(data), 2), 2):\n",
    "            print(data[i])\n",
    "            print(data[i+1])"
   ]
  },
  {
   "cell_type": "code",
   "execution_count": 43,
   "id": "b975bc52-dd06-4c0c-8f77-1b8764c8f177",
   "metadata": {
    "collapsed": true,
    "jupyter": {
     "outputs_hidden": true
    },
    "tags": []
   },
   "outputs": [
    {
     "name": "stdout",
     "output_type": "stream",
     "text": [
      "Help on method sample in module random:\n",
      "\n",
      "sample(population, k, *, counts=None) method of random.Random instance\n",
      "    Chooses k unique random elements from a population sequence or set.\n",
      "    \n",
      "    Returns a new list containing elements from the population while\n",
      "    leaving the original population unchanged.  The resulting list is\n",
      "    in selection order so that all sub-slices will also be valid random\n",
      "    samples.  This allows raffle winners (the sample) to be partitioned\n",
      "    into grand prize and second place winners (the subslices).\n",
      "    \n",
      "    Members of the population need not be hashable or unique.  If the\n",
      "    population contains repeats, then each occurrence is a possible\n",
      "    selection in the sample.\n",
      "    \n",
      "    Repeated elements can be specified one at a time or with the optional\n",
      "    counts parameter.  For example:\n",
      "    \n",
      "        sample(['red', 'blue'], counts=[4, 2], k=5)\n",
      "    \n",
      "    is equivalent to:\n",
      "    \n",
      "        sample(['red', 'red', 'red', 'red', 'blue', 'blue'], k=5)\n",
      "    \n",
      "    To choose a sample from a range of integers, use range() for the\n",
      "    population argument.  This is especially fast and space efficient\n",
      "    for sampling from a large population:\n",
      "    \n",
      "        sample(range(10000000), 60)\n",
      "\n"
     ]
    }
   ],
   "source": [
    "#import random\n",
    "help(random.sample)"
   ]
  },
  {
   "cell_type": "code",
   "execution_count": 42,
   "id": "56d219b5-2d42-43a5-81e6-234f261d8956",
   "metadata": {},
   "outputs": [
    {
     "name": "stdout",
     "output_type": "stream",
     "text": [
      "AGTTTGGCCCCTTGTTCTTCGGTACGGGGGGTCTAAGAGCTGCATGGGCTTTTGATGGTCCTAAATACGG\n",
      "GCTACAACAAAATTGTTGTGCGAATGCCCCGGGTTGTCGTATTAGATGGGCCAGCATAATCTAAAGACCC\n"
     ]
    }
   ],
   "source": [
    "import random\n",
    "\n",
    "with open(\"/Users/eunnkyu/Desktop/TRGN515/datasets/ls_orchid.fasta\") as f:\n",
    "    data = f.read().splitlines()\n",
    "    for i in random.sample(range(0, len(data), 2), 2):\n",
    "        print(data[i])"
   ]
  },
  {
   "cell_type": "code",
   "execution_count": 45,
   "id": "36fd972f-5499-48b2-80a5-20cd71111338",
   "metadata": {
    "tags": []
   },
   "outputs": [
    {
     "name": "stdout",
     "output_type": "stream",
     "text": [
      "AATCCAGAGGATCGGTTTACTTTGGTCACCCATGGGCGCTTGCTATTGCGGTGACCTAGAGTTGCCATGG\n",
      "ACAATCTAAAGACCCCTTTGAACCCCATTGGAGGCCCATCAACCCATGATCAGTTGATGGCCATGTGTTG\n"
     ]
    }
   ],
   "source": [
    "import random\n",
    "\n",
    "with open(\"/Users/eunnkyu/Desktop/TRGN515/datasets/ls_orchid.fasta\") as f:\n",
    "    data = f.read().splitlines()\n",
    "    for i in random.sample(range(0, len(data), 1), 2):\n",
    "        print(data[i+1])"
   ]
  }
 ],
 "metadata": {
  "kernelspec": {
   "display_name": "Python 3 (ipykernel)",
   "language": "python",
   "name": "python3"
  },
  "language_info": {
   "codemirror_mode": {
    "name": "ipython",
    "version": 3
   },
   "file_extension": ".py",
   "mimetype": "text/x-python",
   "name": "python",
   "nbconvert_exporter": "python",
   "pygments_lexer": "ipython3",
   "version": "3.9.12"
  }
 },
 "nbformat": 4,
 "nbformat_minor": 5
}
